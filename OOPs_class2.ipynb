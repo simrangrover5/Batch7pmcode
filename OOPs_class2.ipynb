{
 "cells": [
  {
   "cell_type": "markdown",
   "metadata": {},
   "source": [
    "# Inheritance"
   ]
  },
  {
   "cell_type": "markdown",
   "metadata": {},
   "source": [
    "1. Single\n",
    "2. Multiple\n",
    "3. Multilevel\n",
    "4. Hierarchical\n",
    "5. Hybrid"
   ]
  },
  {
   "cell_type": "markdown",
   "metadata": {},
   "source": [
    "<h3 style='color:blue'>Single</h3>"
   ]
  },
  {
   "cell_type": "code",
   "execution_count": 1,
   "metadata": {},
   "outputs": [],
   "source": [
    "class Parent:\n",
    "    def __init__(self,name):\n",
    "        self.name = name\n",
    "    def show(self):\n",
    "        print(\"The name of Parent is : \",self.name)\n",
    "    "
   ]
  },
  {
   "cell_type": "code",
   "execution_count": 7,
   "metadata": {},
   "outputs": [],
   "source": [
    "class Child(Parent):\n",
    "    def __init__(self,name,cname):\n",
    "        super().__init__(name)\n",
    "        self.cname = cname\n",
    "    def showchild(self):\n",
    "        print(\"The name of child is : \",self.cname)\n",
    "        print(\"The name of parent is : \",self.name)"
   ]
  },
  {
   "cell_type": "code",
   "execution_count": 8,
   "metadata": {},
   "outputs": [],
   "source": [
    "obj1 = Child(\"Parent name\",\"child name\")"
   ]
  },
  {
   "cell_type": "code",
   "execution_count": 9,
   "metadata": {},
   "outputs": [
    {
     "name": "stdout",
     "output_type": "stream",
     "text": [
      "The name of Parent is :  Parent name\n"
     ]
    }
   ],
   "source": [
    "obj1.show()"
   ]
  },
  {
   "cell_type": "code",
   "execution_count": 10,
   "metadata": {},
   "outputs": [
    {
     "name": "stdout",
     "output_type": "stream",
     "text": [
      "The name of child is :  child name\n",
      "The name of parent is :  Parent name\n"
     ]
    }
   ],
   "source": [
    "obj1.showchild()"
   ]
  },
  {
   "cell_type": "code",
   "execution_count": 11,
   "metadata": {},
   "outputs": [],
   "source": [
    "class Rectangle:\n",
    "    def __init__(self,height,width,color,pos=[0,0]):\n",
    "        self.height = height\n",
    "        self.width = width\n",
    "        self.color = color\n",
    "        self.pos = pos\n",
    "    def show(self):\n",
    "        print(\"The height of rectangle is : \",self.height)\n",
    "        print(\"The width of rectangle is : \",self.width)\n",
    "        print(\"The color is : \",self.color)\n",
    "        print(\"The position is : \",self.pos)"
   ]
  },
  {
   "cell_type": "code",
   "execution_count": 12,
   "metadata": {},
   "outputs": [],
   "source": [
    "class Calculation(Rectangle):\n",
    "    def __init__(self,height,width,color,pos=[0,0]):\n",
    "        super().__init__(height,width,color,pos)\n",
    "    def area(self):\n",
    "        print(\"The area of rectangle is : \",self.height*self.width)\n",
    "    def perimeter(self):\n",
    "        print(\"The perimeter of rectangle is : \",self.height*2+self.width*2)"
   ]
  },
  {
   "cell_type": "code",
   "execution_count": 13,
   "metadata": {},
   "outputs": [],
   "source": [
    "obj1 = Calculation(10,12,'red')"
   ]
  },
  {
   "cell_type": "code",
   "execution_count": 14,
   "metadata": {},
   "outputs": [
    {
     "name": "stdout",
     "output_type": "stream",
     "text": [
      "The height of rectangle is :  10\n",
      "The width of rectangle is :  12\n",
      "The color is :  red\n",
      "The position is :  [0, 0]\n"
     ]
    }
   ],
   "source": [
    "obj1.show()"
   ]
  },
  {
   "cell_type": "code",
   "execution_count": 15,
   "metadata": {},
   "outputs": [
    {
     "name": "stdout",
     "output_type": "stream",
     "text": [
      "The area of rectangle is :  120\n"
     ]
    }
   ],
   "source": [
    "obj1.area()"
   ]
  },
  {
   "cell_type": "code",
   "execution_count": 16,
   "metadata": {},
   "outputs": [
    {
     "name": "stdout",
     "output_type": "stream",
     "text": [
      "The perimeter of rectangle is :  44\n"
     ]
    }
   ],
   "source": [
    "obj1.perimeter()"
   ]
  },
  {
   "cell_type": "code",
   "execution_count": 17,
   "metadata": {},
   "outputs": [],
   "source": [
    "class Quadrilatoral:\n",
    "    def __init__(self,a,b,c,d):\n",
    "        self.a = a\n",
    "        self.b = b\n",
    "        self.c = c\n",
    "        self.d = d\n",
    "    def show(self):\n",
    "        print(\"The sides of rectangle are : \",self.a,self.b,self.c,self.d)\n",
    "    def perimeter(self):\n",
    "        print(\"The perimeter is : \",self.a+self.b+self.c+self.d)"
   ]
  },
  {
   "cell_type": "code",
   "execution_count": 18,
   "metadata": {},
   "outputs": [],
   "source": [
    "class Rectangle(Quadrilatoral):\n",
    "    def __init__(self,a,b):\n",
    "        super().__init__(a,b,a,b)\n",
    "    "
   ]
  },
  {
   "cell_type": "code",
   "execution_count": 24,
   "metadata": {},
   "outputs": [
    {
     "name": "stdout",
     "output_type": "stream",
     "text": [
      "10\n",
      "20\n"
     ]
    }
   ],
   "source": [
    "rec1 = Rectangle(int(input()),int(input()))"
   ]
  },
  {
   "cell_type": "code",
   "execution_count": 25,
   "metadata": {},
   "outputs": [
    {
     "name": "stdout",
     "output_type": "stream",
     "text": [
      "The sides of rectangle are :  10 20 10 20\n"
     ]
    }
   ],
   "source": [
    "rec1.show()"
   ]
  },
  {
   "cell_type": "code",
   "execution_count": 26,
   "metadata": {},
   "outputs": [
    {
     "name": "stdout",
     "output_type": "stream",
     "text": [
      "The perimeter is :  60\n"
     ]
    }
   ],
   "source": [
    "rec1.perimeter()"
   ]
  },
  {
   "cell_type": "code",
   "execution_count": 54,
   "metadata": {},
   "outputs": [],
   "source": [
    "class Polygon:\n",
    "    def __init__(self,noofsides):\n",
    "        self.noofsides = noofsides\n",
    "        self.sides = [0 for var in range(noofsides)]\n",
    "    def setit(self):\n",
    "        self.sides = [int(input()) for var in range(self.noofsides)]\n",
    "    def getit(self):\n",
    "        for i in range(self.noofsides):\n",
    "            print(\"The side {} is {}\".format(i,self.sides[i]))"
   ]
  },
  {
   "cell_type": "code",
   "execution_count": 58,
   "metadata": {},
   "outputs": [],
   "source": [
    "class Rectangle(Polygon):\n",
    "    def __init__(self,noofsides):\n",
    "        super().__init__(noofsides)\n",
    "    def perimeter(self):\n",
    "        p = 0\n",
    "        for i in self.sides:\n",
    "            p += i\n",
    "        print(\"The perimeter is : \",p)"
   ]
  },
  {
   "cell_type": "code",
   "execution_count": 59,
   "metadata": {},
   "outputs": [],
   "source": [
    "obj1 = Rectangle(4)"
   ]
  },
  {
   "cell_type": "code",
   "execution_count": 60,
   "metadata": {},
   "outputs": [
    {
     "name": "stdout",
     "output_type": "stream",
     "text": [
      "The perimeter is :  0\n"
     ]
    }
   ],
   "source": [
    "obj1.perimeter()"
   ]
  },
  {
   "cell_type": "code",
   "execution_count": 61,
   "metadata": {},
   "outputs": [
    {
     "name": "stdout",
     "output_type": "stream",
     "text": [
      "1\n",
      "2\n",
      "1\n",
      "2\n"
     ]
    }
   ],
   "source": [
    "obj1.setit()"
   ]
  },
  {
   "cell_type": "code",
   "execution_count": 62,
   "metadata": {},
   "outputs": [
    {
     "name": "stdout",
     "output_type": "stream",
     "text": [
      "The perimeter is :  6\n"
     ]
    }
   ],
   "source": [
    "obj1.perimeter()"
   ]
  },
  {
   "cell_type": "code",
   "execution_count": 64,
   "metadata": {},
   "outputs": [
    {
     "name": "stdout",
     "output_type": "stream",
     "text": [
      "The side 0 is 1\n",
      "The side 1 is 2\n",
      "The side 2 is 1\n",
      "The side 3 is 2\n"
     ]
    }
   ],
   "source": [
    "obj1.getit()"
   ]
  },
  {
   "cell_type": "code",
   "execution_count": null,
   "metadata": {},
   "outputs": [],
   "source": []
  }
 ],
 "metadata": {
  "kernelspec": {
   "display_name": "Python 3",
   "language": "python",
   "name": "python3"
  },
  "language_info": {
   "codemirror_mode": {
    "name": "ipython",
    "version": 3
   },
   "file_extension": ".py",
   "mimetype": "text/x-python",
   "name": "python",
   "nbconvert_exporter": "python",
   "pygments_lexer": "ipython3",
   "version": "3.6.5"
  }
 },
 "nbformat": 4,
 "nbformat_minor": 2
}

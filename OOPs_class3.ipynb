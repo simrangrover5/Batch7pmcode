{
 "cells": [
  {
   "cell_type": "code",
   "execution_count": 33,
   "metadata": {},
   "outputs": [],
   "source": [
    "class Parent1:     #multiple inheritance\n",
    "    def __init__(self,name1):\n",
    "        self.name1 = name1\n",
    "    def show(self):\n",
    "        print(\"The name of parent1 is {}\".format(self.name1))\n",
    "\n",
    "class Parent2:\n",
    "    def __init__(self,name2):\n",
    "        self.name2 = name2\n",
    "    def show1(self):\n",
    "        print(\"The name of parent2 is {}\".format(self.name2))\n",
    "        \n",
    "class Child(Parent2,Parent1):\n",
    "    def __init__(self,name1,name2,name):\n",
    "        Parent1.__init__(self,name1)\n",
    "        Parent2.__init__(self,name2)\n",
    "        self.name = name \n",
    "    def show(self):      #overriding\n",
    "        print(\"The name of parent1 is {}\".format(self.name1))\n",
    "        print(\"The name of parent2 is {}\".format(self.name2))\n",
    "        print(\"The name of child is {}\".format(self.name))"
   ]
  },
  {
   "cell_type": "code",
   "execution_count": 26,
   "metadata": {},
   "outputs": [],
   "source": [
    "c1 = Child(\"Riya\",\"Rohan\",\"Simran\")"
   ]
  },
  {
   "cell_type": "code",
   "execution_count": 27,
   "metadata": {},
   "outputs": [
    {
     "name": "stdout",
     "output_type": "stream",
     "text": [
      "The name of parent1 is Riya\n",
      "The name of parent2 is Rohan\n",
      "The name of child is Simran\n"
     ]
    }
   ],
   "source": [
    "c1.show()"
   ]
  },
  {
   "cell_type": "code",
   "execution_count": 28,
   "metadata": {},
   "outputs": [
    {
     "name": "stdout",
     "output_type": "stream",
     "text": [
      "The name of parent2 is Rohan\n"
     ]
    }
   ],
   "source": [
    "c1.show1()"
   ]
  },
  {
   "cell_type": "code",
   "execution_count": 30,
   "metadata": {},
   "outputs": [],
   "source": [
    "class Fname:\n",
    "    def __init__(self,fname):\n",
    "        self.fname = fname\n",
    "\n",
    "class Lname:\n",
    "    def __init__(self,lname):\n",
    "        self.lname = lname\n",
    "        \n",
    "class Name(Fname,Lname):\n",
    "    def __init__(self,fname,lname):\n",
    "        Fname.__init__(self,fname)\n",
    "        Lname.__init__(self,lname)\n",
    "    def show(self):\n",
    "        print(\"The first name is {} and last name is {}\".format(self.fname,self.lname))"
   ]
  },
  {
   "cell_type": "code",
   "execution_count": 31,
   "metadata": {},
   "outputs": [],
   "source": [
    "name1 = Name(\"Simran\",\"Grover\")"
   ]
  },
  {
   "cell_type": "code",
   "execution_count": 32,
   "metadata": {},
   "outputs": [
    {
     "name": "stdout",
     "output_type": "stream",
     "text": [
      "The first name is Simran and last name is Grover\n"
     ]
    }
   ],
   "source": [
    "name1.show()"
   ]
  },
  {
   "cell_type": "code",
   "execution_count": 36,
   "metadata": {},
   "outputs": [
    {
     "data": {
      "text/plain": [
       "'Grover'"
      ]
     },
     "execution_count": 36,
     "metadata": {},
     "output_type": "execute_result"
    }
   ],
   "source": [
    "name1.lname"
   ]
  },
  {
   "cell_type": "code",
   "execution_count": 37,
   "metadata": {},
   "outputs": [
    {
     "data": {
      "text/plain": [
       "'Simran'"
      ]
     },
     "execution_count": 37,
     "metadata": {},
     "output_type": "execute_result"
    }
   ],
   "source": [
    "getattr(name1,'fname')"
   ]
  },
  {
   "cell_type": "code",
   "execution_count": 46,
   "metadata": {},
   "outputs": [
    {
     "data": {
      "text/plain": [
       "True"
      ]
     },
     "execution_count": 46,
     "metadata": {},
     "output_type": "execute_result"
    }
   ],
   "source": [
    "hasattr(name1,'name')"
   ]
  },
  {
   "cell_type": "code",
   "execution_count": 44,
   "metadata": {},
   "outputs": [],
   "source": [
    "setattr(name1,'name','simrangrover')"
   ]
  },
  {
   "cell_type": "code",
   "execution_count": 45,
   "metadata": {},
   "outputs": [
    {
     "data": {
      "text/plain": [
       "'simrangrover'"
      ]
     },
     "execution_count": 45,
     "metadata": {},
     "output_type": "execute_result"
    }
   ],
   "source": [
    "getattr(name1,'name')"
   ]
  },
  {
   "cell_type": "code",
   "execution_count": 42,
   "metadata": {},
   "outputs": [],
   "source": [
    "delattr(name1,'name')"
   ]
  },
  {
   "cell_type": "code",
   "execution_count": 47,
   "metadata": {},
   "outputs": [],
   "source": [
    "#multilevel\n",
    "class Gp:\n",
    "    def __init__(self,name,age):\n",
    "        self.name = name\n",
    "        self.age = age\n",
    "class P(Gp):\n",
    "    def __init__(self,name,age,pname):\n",
    "        super().__init__(name,age)\n",
    "        self.pname = pname\n",
    "    def show(self):\n",
    "        print(\"Name of grand parent is : \",self.name)\n",
    "        print(\"The name of parent is : \",self.pname)\n",
    "\n",
    "class C(P):\n",
    "    def __init__(self,name,age,pname,cname):\n",
    "        super().__init__(name,age,pname)\n",
    "        self.cname = cname\n",
    "    def change(self):\n",
    "        self.cname = input(\"Enter your new child name : \")\n",
    "    def show1(self):\n",
    "        print(\"The name of parent is {}\".format(self.name))\n",
    "        print(\"The age of parent is {}\".format(self.age))\n",
    "        print(\"The name of parent is {}\".format(self.pname))\n",
    "        print(\"The name of child is {}\".format(self.cname))"
   ]
  },
  {
   "cell_type": "code",
   "execution_count": 48,
   "metadata": {},
   "outputs": [],
   "source": [
    "c1 = C(\"Riya\",34,\"Manraj\",\"Rohan\")"
   ]
  },
  {
   "cell_type": "code",
   "execution_count": 49,
   "metadata": {},
   "outputs": [
    {
     "name": "stdout",
     "output_type": "stream",
     "text": [
      "Name of grand parent is :  Riya\n",
      "The name of parent is :  Manraj\n"
     ]
    }
   ],
   "source": [
    "c1.show()"
   ]
  },
  {
   "cell_type": "code",
   "execution_count": 52,
   "metadata": {},
   "outputs": [
    {
     "name": "stdout",
     "output_type": "stream",
     "text": [
      "The name of parent is Riya\n",
      "The age of parent is 34\n",
      "The name of parent is Manraj\n",
      "The name of child is Raghav\n"
     ]
    }
   ],
   "source": [
    "c1.show1()"
   ]
  },
  {
   "cell_type": "code",
   "execution_count": 51,
   "metadata": {},
   "outputs": [
    {
     "name": "stdout",
     "output_type": "stream",
     "text": [
      "Enter your new child name : Raghav\n"
     ]
    }
   ],
   "source": [
    "c1.change()"
   ]
  },
  {
   "cell_type": "code",
   "execution_count": 53,
   "metadata": {},
   "outputs": [],
   "source": [
    "#hierarchical\n",
    "class Parent:\n",
    "    def __init__(self,pname1,pname2):\n",
    "        self.pname = pname1\n",
    "        self.pname2 = pname2\n",
    "\n",
    "class Child1(Parent):\n",
    "    def __init__(self,pname1,pname2,cname1):\n",
    "        super().__init__(pname1,pname2)\n",
    "        self.cname1 = cname1\n",
    "    def show(self):\n",
    "        print(\"The name of child1 is {}\".format(self.cname1))\n",
    "    \n",
    "class Child2(Parent):\n",
    "    def __init__(self,pname1,pname2,cname2):\n",
    "        super().__init__(pname1,pname2)\n",
    "        self.cname2 = cname2\n",
    "    def show(self):\n",
    "        print(\"The name of child2 is {}\".format(self.cname2))"
   ]
  },
  {
   "cell_type": "code",
   "execution_count": 54,
   "metadata": {},
   "outputs": [],
   "source": [
    "c1 = Child1(\"Riya\",\"Raghav\",\"Rohan\")\n",
    "c2 = Child2(\"Riya\",\"Raghav\",\"Rahul\")"
   ]
  },
  {
   "cell_type": "code",
   "execution_count": 55,
   "metadata": {},
   "outputs": [
    {
     "name": "stdout",
     "output_type": "stream",
     "text": [
      "The name of child1 is Rohan\n"
     ]
    }
   ],
   "source": [
    "c1.show()"
   ]
  },
  {
   "cell_type": "code",
   "execution_count": 56,
   "metadata": {},
   "outputs": [
    {
     "name": "stdout",
     "output_type": "stream",
     "text": [
      "The name of child2 is Rahul\n"
     ]
    }
   ],
   "source": [
    "c2.show()"
   ]
  },
  {
   "cell_type": "code",
   "execution_count": 60,
   "metadata": {},
   "outputs": [],
   "source": [
    "#hybrid\n",
    "class A:\n",
    "    def __init__(self,rollno):\n",
    "        self.rollno = rollno\n",
    "class B(A):\n",
    "    def __init__(self,rollno,course):\n",
    "        super().__init__(rollno)\n",
    "        self.course = course\n",
    "        \n",
    "class C:\n",
    "    def __init__(self,name):\n",
    "        self.name = name\n",
    "class D(B,C):\n",
    "    def __init__(self,rollno,course,name,age):\n",
    "        B.__init__(self,rollno,course)\n",
    "        C.__init__(self,name)\n",
    "        self.age = age\n",
    "    def get(self):\n",
    "        print(\"The details of student is \")\n",
    "        print(\"The name is : {}\".format(self.name))\n",
    "        print(\"The age of student is :{}\".format(self.age))\n",
    "        print(\"The course of student is {}\".format(self.age))"
   ]
  },
  {
   "cell_type": "code",
   "execution_count": 61,
   "metadata": {},
   "outputs": [],
   "source": [
    "obj1 = D(1001,\"python\",\"samar\",15)"
   ]
  },
  {
   "cell_type": "code",
   "execution_count": 62,
   "metadata": {},
   "outputs": [
    {
     "name": "stdout",
     "output_type": "stream",
     "text": [
      "The details of student is \n",
      "The name is : samar\n",
      "The age of student is :15\n",
      "The course of student is 15\n"
     ]
    }
   ],
   "source": [
    "obj1.get()"
   ]
  },
  {
   "cell_type": "code",
   "execution_count": null,
   "metadata": {},
   "outputs": [],
   "source": []
  }
 ],
 "metadata": {
  "kernelspec": {
   "display_name": "Python 3",
   "language": "python",
   "name": "python3"
  },
  "language_info": {
   "codemirror_mode": {
    "name": "ipython",
    "version": 3
   },
   "file_extension": ".py",
   "mimetype": "text/x-python",
   "name": "python",
   "nbconvert_exporter": "python",
   "pygments_lexer": "ipython3",
   "version": "3.6.5"
  }
 },
 "nbformat": 4,
 "nbformat_minor": 2
}

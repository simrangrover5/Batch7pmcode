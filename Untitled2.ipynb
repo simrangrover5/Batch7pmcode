{
 "cells": [
  {
   "cell_type": "code",
   "execution_count": 2,
   "metadata": {},
   "outputs": [],
   "source": [
    "bank = {'accno':[1001,1002,1003],\n",
    "'name':['simran','ram','sham'],\n",
    "'bal':[10000,20000,30000]}"
   ]
  },
  {
   "cell_type": "code",
   "execution_count": 7,
   "metadata": {},
   "outputs": [],
   "source": [
    "size = len(bank['accno'])"
   ]
  },
  {
   "cell_type": "code",
   "execution_count": 5,
   "metadata": {},
   "outputs": [
    {
     "data": {
      "text/plain": [
       "3"
      ]
     },
     "execution_count": 5,
     "metadata": {},
     "output_type": "execute_result"
    }
   ],
   "source": [
    "size"
   ]
  },
  {
   "cell_type": "code",
   "execution_count": 6,
   "metadata": {},
   "outputs": [
    {
     "name": "stdout",
     "output_type": "stream",
     "text": [
      "Accno :  1001\n",
      "Name :  simran\n",
      "Bal :  10000\n",
      "Accno :  1002\n",
      "Name :  ram\n",
      "Bal :  20000\n",
      "Accno :  1003\n",
      "Name :  sham\n",
      "Bal :  30000\n"
     ]
    }
   ],
   "source": [
    "for var in range(size):\n",
    "    print(\"Accno : \",bank['accno'][var])\n",
    "    print(\"Name : \",bank['name'][var])\n",
    "    print(\"Bal : \",bank['bal'][var])"
   ]
  },
  {
   "cell_type": "code",
   "execution_count": 4,
   "metadata": {},
   "outputs": [
    {
     "name": "stdout",
     "output_type": "stream",
     "text": [
      "5\n",
      "ashwin\n",
      "50\n",
      "ashwin\n",
      "10\n",
      "kohli\n",
      "10\n",
      "kohli\n",
      "20\n",
      "simran\n",
      "90\n"
     ]
    }
   ],
   "source": [
    "n = int(input())\n",
    "data = [(input(),int(input())) for var in range(n)]"
   ]
  },
  {
   "cell_type": "code",
   "execution_count": 5,
   "metadata": {},
   "outputs": [
    {
     "data": {
      "text/plain": [
       "[('ashwin', 50), ('ashwin', 10), ('kohli', 10), ('kohli', 20), ('simran', 90)]"
      ]
     },
     "execution_count": 5,
     "metadata": {},
     "output_type": "execute_result"
    }
   ],
   "source": [
    "data"
   ]
  },
  {
   "cell_type": "code",
   "execution_count": 47,
   "metadata": {},
   "outputs": [
    {
     "name": "stdout",
     "output_type": "stream",
     "text": [
      "{'ashwin': [], 'kohli': [], 'simran': []}\n",
      "ashwin\n",
      "ashwin\n",
      "kohli\n",
      "kohli\n",
      "simran\n",
      "{'ashwin': [50, 10], 'kohli': [10, 20], 'simran': [90]}\n",
      "{'ashwin': 60, 'kohli': 30, 'simran': 90}\n",
      "simran\n"
     ]
    }
   ],
   "source": [
    "d = {}\n",
    "names = []\n",
    "for var in data:\n",
    "     names.append(var[0])\n",
    "for i in names:\n",
    "    d[i] = []\n",
    "print(d)\n",
    "for var in data:\n",
    "    if var[0] in d.keys():\n",
    "        print(var[0])\n",
    "        d[var[0]].append(var[1])\n",
    "print(d)\n",
    "for key,value in d.items():\n",
    "    d[key] = sum(value)\n",
    "print(d)\n",
    "m = max(d.values())\n",
    "for i in d.keys():\n",
    "    if d[i] == m:\n",
    "        print(i)"
   ]
  },
  {
   "cell_type": "code",
   "execution_count": 42,
   "metadata": {},
   "outputs": [
    {
     "data": {
      "text/plain": [
       "['ashwin', 'ashwin', 'kohli', 'kohli', 'simran']"
      ]
     },
     "execution_count": 42,
     "metadata": {},
     "output_type": "execute_result"
    }
   ],
   "source": [
    "names"
   ]
  },
  {
   "cell_type": "code",
   "execution_count": 43,
   "metadata": {},
   "outputs": [
    {
     "data": {
      "text/plain": [
       "{'ashwin': [50, 10], 'kohli': [10, 20], 'simran': [90]}"
      ]
     },
     "execution_count": 43,
     "metadata": {},
     "output_type": "execute_result"
    }
   ],
   "source": [
    "d"
   ]
  },
  {
   "cell_type": "code",
   "execution_count": null,
   "metadata": {},
   "outputs": [],
   "source": []
  }
 ],
 "metadata": {
  "kernelspec": {
   "display_name": "Python 3",
   "language": "python",
   "name": "python3"
  },
  "language_info": {
   "codemirror_mode": {
    "name": "ipython",
    "version": 3
   },
   "file_extension": ".py",
   "mimetype": "text/x-python",
   "name": "python",
   "nbconvert_exporter": "python",
   "pygments_lexer": "ipython3",
   "version": "3.6.5"
  }
 },
 "nbformat": 4,
 "nbformat_minor": 2
}

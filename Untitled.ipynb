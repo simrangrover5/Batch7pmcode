{
 "cells": [
  {
   "cell_type": "markdown",
   "metadata": {},
   "source": [
    "# Decorators"
   ]
  },
  {
   "cell_type": "code",
   "execution_count": 3,
   "metadata": {},
   "outputs": [
    {
     "name": "stdout",
     "output_type": "stream",
     "text": [
      "**************************************************\n",
      "**************************************************\n",
      "22\n",
      "**************************************************\n",
      "**************************************************\n"
     ]
    }
   ],
   "source": [
    "def decorate(func):\n",
    "    def f(a,b):\n",
    "        print(\"*\"*50)\n",
    "        print(\"*\"*50)\n",
    "        result = func(a,b)\n",
    "        print(result)\n",
    "        print(\"*\"*50)\n",
    "        print(\"*\"*50)\n",
    "    return f\n",
    "@decorate\n",
    "def add(a,b):\n",
    "    return a+b\n",
    "\n",
    "#a = decorate(add)\n",
    "#a(10,12)\n",
    "add(10,12)"
   ]
  },
  {
   "cell_type": "code",
   "execution_count": 5,
   "metadata": {},
   "outputs": [
    {
     "name": "stdout",
     "output_type": "stream",
     "text": [
      "1\n"
     ]
    }
   ],
   "source": [
    "x = 0\n",
    "def add():\n",
    "    global x\n",
    "    x = x + 1\n",
    "    return x\n",
    "print(add())"
   ]
  },
  {
   "cell_type": "code",
   "execution_count": 13,
   "metadata": {},
   "outputs": [],
   "source": [
    "def decorator(func):\n",
    "    def f(*args):\n",
    "        print(\"*\"*50)\n",
    "        print(\"-\"*50)\n",
    "        result = func(*args)\n",
    "        print(result)\n",
    "        print(\"*\"*50)\n",
    "        print(\"-\"*50)\n",
    "    return f\n",
    "\n",
    "@decorator\n",
    "def sq(a):\n",
    "    return a**2\n",
    "\n",
    "@decorator\n",
    "@decorator\n",
    "def cube(a):\n",
    "    return a**3"
   ]
  },
  {
   "cell_type": "code",
   "execution_count": 11,
   "metadata": {},
   "outputs": [
    {
     "name": "stdout",
     "output_type": "stream",
     "text": [
      "10\n",
      "**************************************************\n",
      "--------------------------------------------------\n",
      "100\n",
      "**************************************************\n",
      "--------------------------------------------------\n"
     ]
    }
   ],
   "source": [
    "sq(int(input()))"
   ]
  },
  {
   "cell_type": "code",
   "execution_count": 14,
   "metadata": {},
   "outputs": [
    {
     "name": "stdout",
     "output_type": "stream",
     "text": [
      "100\n",
      "**************************************************\n",
      "--------------------------------------------------\n",
      "**************************************************\n",
      "--------------------------------------------------\n",
      "1000000\n",
      "**************************************************\n",
      "--------------------------------------------------\n",
      "None\n",
      "**************************************************\n",
      "--------------------------------------------------\n"
     ]
    }
   ],
   "source": [
    "cube(int(input()))"
   ]
  },
  {
   "cell_type": "code",
   "execution_count": 15,
   "metadata": {},
   "outputs": [],
   "source": [
    "import time"
   ]
  },
  {
   "cell_type": "code",
   "execution_count": 16,
   "metadata": {},
   "outputs": [
    {
     "data": {
      "text/plain": [
       "1561470867.9048629"
      ]
     },
     "execution_count": 16,
     "metadata": {},
     "output_type": "execute_result"
    }
   ],
   "source": [
    "time.time()"
   ]
  },
  {
   "cell_type": "code",
   "execution_count": 17,
   "metadata": {},
   "outputs": [
    {
     "data": {
      "text/plain": [
       "'Tue Jun 25 19:25:39 2019'"
      ]
     },
     "execution_count": 17,
     "metadata": {},
     "output_type": "execute_result"
    }
   ],
   "source": [
    "time.ctime()"
   ]
  },
  {
   "cell_type": "code",
   "execution_count": 30,
   "metadata": {},
   "outputs": [
    {
     "name": "stdout",
     "output_type": "stream",
     "text": [
      "100\n",
      "----------------------------------------------------------------------------------------------------\n",
      "----------------------------------------------------------------------------------------------------\n",
      "****************************************************************************************************\n",
      "****************************************************************************************************\n",
      "The starting time is :  1561471884.4303036\n",
      "93326215443944152681699238856266700490715968264381621468592963895217599993229915608941463976156518286253697920827223758251185210916864000000000000000000000000\n",
      "The ending time is :  1561471884.4303036\n",
      "The time taken is : 0.0\n",
      "****************************************************************************************************\n",
      "****************************************************************************************************\n",
      "----------------------------------------------------------------------------------------------------\n",
      "----------------------------------------------------------------------------------------------------\n"
     ]
    }
   ],
   "source": [
    "def intime(func):\n",
    "    def timein(*args):\n",
    "        print(\"*\"*100)\n",
    "        print(\"*\"*100)\n",
    "        start = time.time()\n",
    "        print(\"The starting time is : \",start)\n",
    "        result = func(*args)\n",
    "        print(result)\n",
    "        end = time.time()\n",
    "        print(\"The ending time is : \",end)\n",
    "        print(\"The time taken is : {}\".format(end-start))\n",
    "        print(\"*\"*100)\n",
    "        print(\"*\"*100)\n",
    "    return timein\n",
    "\n",
    "def intime1(func):\n",
    "    def timein1(*args):\n",
    "        print(\"-\"*100)\n",
    "        print(\"-\"*100)\n",
    "        start = time.time()\n",
    "        #print(\"The starting time is : \",start)\n",
    "        result = func(*args)\n",
    "        #print(result)\n",
    "        end = time.time()\n",
    "        #print(\"The ending time is : \",end)\n",
    "        #print(\"The time taken is : {}\".format(end-start))\n",
    "        print(\"-\"*100)\n",
    "        print(\"-\"*100)\n",
    "    return timein1\n",
    "\n",
    "@intime\n",
    "def sq(a):\n",
    "    return a**2\n",
    "\n",
    "@intime1\n",
    "@intime\n",
    "def fact(a):\n",
    "    f = 1\n",
    "    while a>0:\n",
    "        f *= a\n",
    "        a -= 1\n",
    "    return f\n",
    "\n",
    "@intime\n",
    "def cube(a):\n",
    "    return a**3\n",
    " \n",
    "#cube(int(input()))\n",
    "#sq(float(input()))\n",
    "fact(int(input()))"
   ]
  },
  {
   "cell_type": "code",
   "execution_count": null,
   "metadata": {},
   "outputs": [],
   "source": []
  }
 ],
 "metadata": {
  "kernelspec": {
   "display_name": "Python 3",
   "language": "python",
   "name": "python3"
  },
  "language_info": {
   "codemirror_mode": {
    "name": "ipython",
    "version": 3
   },
   "file_extension": ".py",
   "mimetype": "text/x-python",
   "name": "python",
   "nbconvert_exporter": "python",
   "pygments_lexer": "ipython3",
   "version": "3.6.5"
  }
 },
 "nbformat": 4,
 "nbformat_minor": 2
}
